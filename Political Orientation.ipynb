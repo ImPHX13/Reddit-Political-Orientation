{
 "cells": [
  {
   "cell_type": "code",
   "execution_count": 1,
   "metadata": {
    "id": "V1qPO1RxLGYk"
   },
   "outputs": [],
   "source": [
    "# Importing the required libraries\n",
    "import json\n",
    "import tensorflow as tf\n",
    "from sklearn.feature_extraction.text import TfidfVectorizer\n",
    "from sklearn.preprocessing import LabelEncoder\n",
    "from sklearn.model_selection import train_test_split\n",
    "from tensorflow.keras.models import Sequential\n",
    "from tensorflow.keras.layers import Dense\n",
    "from tensorflow.keras.callbacks import ModelCheckpoint"
   ]
  },
  {
   "cell_type": "code",
   "execution_count": 2,
   "metadata": {
    "colab": {
     "base_uri": "https://localhost:8080/"
    },
    "id": "ORpYXBElLIrK",
    "outputId": "d6c8a969-1a1d-40be-d48f-bce3b40ac217"
   },
   "outputs": [
    {
     "name": "stdout",
     "output_type": "stream",
     "text": [
      "Drive already mounted at /content/drive; to attempt to forcibly remount, call drive.mount(\"/content/drive\", force_remount=True).\n"
     ]
    }
   ],
   "source": [
    "from google.colab import drive\n",
    "drive.mount('/content/drive')"
   ]
  },
  {
   "cell_type": "code",
   "execution_count": 3,
   "metadata": {
    "id": "Vy26_hGuMEvl"
   },
   "outputs": [],
   "source": [
    "# Loading and preprocessing data\n",
    "data = []\n",
    "with open(\"political_orientation_data.json\", \"r\") as f:\n",
    "    for line in f:\n",
    "        data.append(json.loads(line))"
   ]
  },
  {
   "cell_type": "code",
   "execution_count": 4,
   "metadata": {
    "id": "o34GJYImMky-"
   },
   "outputs": [],
   "source": [
    "texts = [item[\"text\"] for item in data]\n",
    "labels = [item[\"label\"] for item in data]"
   ]
  },
  {
   "cell_type": "code",
   "execution_count": 5,
   "metadata": {
    "id": "88QPoc7GNT66"
   },
   "outputs": [],
   "source": [
    "# TFIDF Vectorizer to transform the data\n",
    "vectorizer = TfidfVectorizer(max_features=10000)\n",
    "X = vectorizer.fit_transform(texts).toarray()"
   ]
  },
  {
   "cell_type": "code",
   "execution_count": 6,
   "metadata": {
    "id": "OZRb27ZaPlrR"
   },
   "outputs": [],
   "source": [
    "# Encoding the labels\n",
    "encoder = LabelEncoder()\n",
    "y = encoder.fit_transform(labels)"
   ]
  },
  {
   "cell_type": "code",
   "execution_count": 7,
   "metadata": {
    "id": "8ZREvw5DNZY-"
   },
   "outputs": [],
   "source": [
    "# Splitting the dataset into the training and testing set\n",
    "X_train, X_test, y_train, y_test = train_test_split(X, y, test_size=0.25, random_state=42)"
   ]
  },
  {
   "cell_type": "code",
   "execution_count": 8,
   "metadata": {
    "id": "ZsY44TafNcVe"
   },
   "outputs": [],
   "source": [
    "# Creating the model and defining the architecture\n",
    "model = Sequential([\n",
    "    Dense(5000, activation='relu', input_shape=(10000,)),\n",
    "    Dense(2500, activation='relu'),\n",
    "    Dense(1, activation='sigmoid', name='output_layer')\n",
    "])\n",
    "# model = Sequential([\n",
    "#     Dense(5000, activation='relu', input_shape=(10000,)),\n",
    "#     Dense(2500, activation='relu', name='hidden_layer'),\n",
    "#     Dense(1, activation='sigmoid', name='output_layer')\n",
    "# ])"
   ]
  },
  {
   "cell_type": "code",
   "execution_count": 9,
   "metadata": {
    "id": "_1Jp8LEXNd5G"
   },
   "outputs": [],
   "source": [
    "# Compiling the model\n",
    "model.compile(\n",
    "    loss='binary_crossentropy',\n",
    "    optimizer='sgd',\n",
    "    metrics=['accuracy']\n",
    ")"
   ]
  },
  {
   "cell_type": "code",
   "execution_count": 10,
   "metadata": {
    "id": "VioqggSrNf_E"
   },
   "outputs": [],
   "source": [
    "# Training the model and saving the best checkpoint\n",
    "checkpoint = ModelCheckpoint(\n",
    "    \"best_model.h5\",\n",
    "    monitor=\"val_accuracy\",\n",
    "    mode=\"max\",\n",
    "    save_best_only=True,\n",
    "    verbose=1\n",
    ")"
   ]
  },
  {
   "cell_type": "code",
   "execution_count": 11,
   "metadata": {
    "colab": {
     "base_uri": "https://localhost:8080/"
    },
    "id": "RSj6yI1wNiGK",
    "outputId": "8715e68e-3848-41db-f6e4-b23010afeeb3"
   },
   "outputs": [
    {
     "name": "stdout",
     "output_type": "stream",
     "text": [
      "Epoch 1/30\n",
      "465/469 [============================>.] - ETA: 0s - loss: 0.6592 - accuracy: 0.6462\n",
      "Epoch 1: val_accuracy improved from -inf to 0.65120, saving model to best_model.h5\n",
      "469/469 [==============================] - 14s 21ms/step - loss: 0.6589 - accuracy: 0.6467 - val_loss: 0.6467 - val_accuracy: 0.6512\n",
      "Epoch 2/30\n",
      "469/469 [==============================] - ETA: 0s - loss: 0.6489 - accuracy: 0.6464\n",
      "Epoch 2: val_accuracy did not improve from 0.65120\n",
      "469/469 [==============================] - 6s 14ms/step - loss: 0.6489 - accuracy: 0.6464 - val_loss: 0.6459 - val_accuracy: 0.6512\n",
      "Epoch 3/30\n",
      "469/469 [==============================] - ETA: 0s - loss: 0.6480 - accuracy: 0.6464\n",
      "Epoch 3: val_accuracy did not improve from 0.65120\n",
      "469/469 [==============================] - 9s 19ms/step - loss: 0.6480 - accuracy: 0.6464 - val_loss: 0.6455 - val_accuracy: 0.6512\n",
      "Epoch 4/30\n",
      "467/469 [============================>.] - ETA: 0s - loss: 0.6469 - accuracy: 0.6467\n",
      "Epoch 4: val_accuracy did not improve from 0.65120\n",
      "469/469 [==============================] - 8s 18ms/step - loss: 0.6471 - accuracy: 0.6464 - val_loss: 0.6453 - val_accuracy: 0.6512\n",
      "Epoch 5/30\n",
      "469/469 [==============================] - ETA: 0s - loss: 0.6461 - accuracy: 0.6464\n",
      "Epoch 5: val_accuracy did not improve from 0.65120\n",
      "469/469 [==============================] - 6s 13ms/step - loss: 0.6461 - accuracy: 0.6464 - val_loss: 0.6445 - val_accuracy: 0.6512\n",
      "Epoch 6/30\n",
      "467/469 [============================>.] - ETA: 0s - loss: 0.6444 - accuracy: 0.6475\n",
      "Epoch 6: val_accuracy did not improve from 0.65120\n",
      "469/469 [==============================] - 6s 14ms/step - loss: 0.6451 - accuracy: 0.6464 - val_loss: 0.6440 - val_accuracy: 0.6512\n",
      "Epoch 7/30\n",
      "467/469 [============================>.] - ETA: 0s - loss: 0.6437 - accuracy: 0.6467\n",
      "Epoch 7: val_accuracy did not improve from 0.65120\n",
      "469/469 [==============================] - 6s 13ms/step - loss: 0.6438 - accuracy: 0.6464 - val_loss: 0.6434 - val_accuracy: 0.6512\n",
      "Epoch 8/30\n",
      "469/469 [==============================] - ETA: 0s - loss: 0.6423 - accuracy: 0.6464\n",
      "Epoch 8: val_accuracy did not improve from 0.65120\n",
      "469/469 [==============================] - 6s 13ms/step - loss: 0.6423 - accuracy: 0.6464 - val_loss: 0.6431 - val_accuracy: 0.6512\n",
      "Epoch 9/30\n",
      "469/469 [==============================] - ETA: 0s - loss: 0.6407 - accuracy: 0.6464\n",
      "Epoch 9: val_accuracy did not improve from 0.65120\n",
      "469/469 [==============================] - 6s 14ms/step - loss: 0.6407 - accuracy: 0.6464 - val_loss: 0.6414 - val_accuracy: 0.6512\n",
      "Epoch 10/30\n",
      "466/469 [============================>.] - ETA: 0s - loss: 0.6387 - accuracy: 0.6465\n",
      "Epoch 10: val_accuracy did not improve from 0.65120\n",
      "469/469 [==============================] - 6s 13ms/step - loss: 0.6388 - accuracy: 0.6464 - val_loss: 0.6405 - val_accuracy: 0.6512\n",
      "Epoch 11/30\n",
      "465/469 [============================>.] - ETA: 0s - loss: 0.6359 - accuracy: 0.6473\n",
      "Epoch 11: val_accuracy did not improve from 0.65120\n",
      "469/469 [==============================] - 7s 14ms/step - loss: 0.6364 - accuracy: 0.6464 - val_loss: 0.6388 - val_accuracy: 0.6512\n",
      "Epoch 12/30\n",
      "467/469 [============================>.] - ETA: 0s - loss: 0.6337 - accuracy: 0.6461\n",
      "Epoch 12: val_accuracy did not improve from 0.65120\n",
      "469/469 [==============================] - 6s 13ms/step - loss: 0.6335 - accuracy: 0.6464 - val_loss: 0.6368 - val_accuracy: 0.6512\n",
      "Epoch 13/30\n",
      "468/469 [============================>.] - ETA: 0s - loss: 0.6304 - accuracy: 0.6461\n",
      "Epoch 13: val_accuracy did not improve from 0.65120\n",
      "469/469 [==============================] - 7s 15ms/step - loss: 0.6302 - accuracy: 0.6464 - val_loss: 0.6345 - val_accuracy: 0.6512\n",
      "Epoch 14/30\n",
      "465/469 [============================>.] - ETA: 0s - loss: 0.6253 - accuracy: 0.6473\n",
      "Epoch 14: val_accuracy did not improve from 0.65120\n",
      "469/469 [==============================] - 6s 13ms/step - loss: 0.6256 - accuracy: 0.6464 - val_loss: 0.6331 - val_accuracy: 0.6512\n",
      "Epoch 15/30\n",
      "468/469 [============================>.] - ETA: 0s - loss: 0.6201 - accuracy: 0.6464\n",
      "Epoch 15: val_accuracy did not improve from 0.65120\n",
      "469/469 [==============================] - 7s 14ms/step - loss: 0.6201 - accuracy: 0.6464 - val_loss: 0.6282 - val_accuracy: 0.6512\n",
      "Epoch 16/30\n",
      "468/469 [============================>.] - ETA: 0s - loss: 0.6129 - accuracy: 0.6466\n",
      "Epoch 16: val_accuracy improved from 0.65120 to 0.65600, saving model to best_model.h5\n",
      "469/469 [==============================] - 8s 17ms/step - loss: 0.6128 - accuracy: 0.6467 - val_loss: 0.6260 - val_accuracy: 0.6560\n",
      "Epoch 17/30\n",
      "469/469 [==============================] - ETA: 0s - loss: 0.6044 - accuracy: 0.6483\n",
      "Epoch 17: val_accuracy did not improve from 0.65600\n",
      "469/469 [==============================] - 7s 14ms/step - loss: 0.6044 - accuracy: 0.6483 - val_loss: 0.6179 - val_accuracy: 0.6528\n",
      "Epoch 18/30\n",
      "466/469 [============================>.] - ETA: 0s - loss: 0.5938 - accuracy: 0.6575\n",
      "Epoch 18: val_accuracy improved from 0.65600 to 0.65840, saving model to best_model.h5\n",
      "469/469 [==============================] - 8s 17ms/step - loss: 0.5937 - accuracy: 0.6576 - val_loss: 0.6114 - val_accuracy: 0.6584\n",
      "Epoch 19/30\n",
      "469/469 [==============================] - ETA: 0s - loss: 0.5794 - accuracy: 0.6709\n",
      "Epoch 19: val_accuracy improved from 0.65840 to 0.66000, saving model to best_model.h5\n",
      "469/469 [==============================] - 9s 19ms/step - loss: 0.5794 - accuracy: 0.6709 - val_loss: 0.6067 - val_accuracy: 0.6600\n",
      "Epoch 20/30\n",
      "469/469 [==============================] - ETA: 0s - loss: 0.5635 - accuracy: 0.6907\n",
      "Epoch 20: val_accuracy improved from 0.66000 to 0.70080, saving model to best_model.h5\n",
      "469/469 [==============================] - 8s 17ms/step - loss: 0.5635 - accuracy: 0.6907 - val_loss: 0.5947 - val_accuracy: 0.7008\n",
      "Epoch 21/30\n",
      "468/469 [============================>.] - ETA: 0s - loss: 0.5436 - accuracy: 0.7201\n",
      "Epoch 21: val_accuracy improved from 0.70080 to 0.70240, saving model to best_model.h5\n",
      "469/469 [==============================] - 8s 18ms/step - loss: 0.5435 - accuracy: 0.7203 - val_loss: 0.5828 - val_accuracy: 0.7024\n",
      "Epoch 22/30\n",
      "466/469 [============================>.] - ETA: 0s - loss: 0.5200 - accuracy: 0.7457\n",
      "Epoch 22: val_accuracy improved from 0.70240 to 0.70880, saving model to best_model.h5\n",
      "469/469 [==============================] - 8s 18ms/step - loss: 0.5196 - accuracy: 0.7461 - val_loss: 0.5728 - val_accuracy: 0.7088\n",
      "Epoch 23/30\n",
      "467/469 [============================>.] - ETA: 0s - loss: 0.4933 - accuracy: 0.7690\n",
      "Epoch 23: val_accuracy improved from 0.70880 to 0.72160, saving model to best_model.h5\n",
      "469/469 [==============================] - 8s 17ms/step - loss: 0.4935 - accuracy: 0.7688 - val_loss: 0.5618 - val_accuracy: 0.7216\n",
      "Epoch 24/30\n",
      "468/469 [============================>.] - ETA: 0s - loss: 0.4661 - accuracy: 0.7949\n",
      "Epoch 24: val_accuracy did not improve from 0.72160\n",
      "469/469 [==============================] - 7s 14ms/step - loss: 0.4657 - accuracy: 0.7952 - val_loss: 0.5832 - val_accuracy: 0.6984\n",
      "Epoch 25/30\n",
      "467/469 [============================>.] - ETA: 0s - loss: 0.4373 - accuracy: 0.8081\n",
      "Epoch 25: val_accuracy improved from 0.72160 to 0.73040, saving model to best_model.h5\n",
      "469/469 [==============================] - 8s 17ms/step - loss: 0.4371 - accuracy: 0.8077 - val_loss: 0.5481 - val_accuracy: 0.7304\n",
      "Epoch 26/30\n",
      "466/469 [============================>.] - ETA: 0s - loss: 0.4056 - accuracy: 0.8364\n",
      "Epoch 26: val_accuracy improved from 0.73040 to 0.73120, saving model to best_model.h5\n",
      "469/469 [==============================] - 9s 18ms/step - loss: 0.4059 - accuracy: 0.8360 - val_loss: 0.5411 - val_accuracy: 0.7312\n",
      "Epoch 27/30\n",
      "468/469 [============================>.] - ETA: 0s - loss: 0.3771 - accuracy: 0.8550\n",
      "Epoch 27: val_accuracy did not improve from 0.73120\n",
      "469/469 [==============================] - 6s 13ms/step - loss: 0.3768 - accuracy: 0.8552 - val_loss: 0.5411 - val_accuracy: 0.7312\n",
      "Epoch 28/30\n",
      "466/469 [============================>.] - ETA: 0s - loss: 0.3444 - accuracy: 0.8763\n",
      "Epoch 28: val_accuracy did not improve from 0.73120\n",
      "469/469 [==============================] - 7s 14ms/step - loss: 0.3448 - accuracy: 0.8760 - val_loss: 0.5415 - val_accuracy: 0.7296\n",
      "Epoch 29/30\n",
      "469/469 [==============================] - ETA: 0s - loss: 0.3160 - accuracy: 0.8899\n",
      "Epoch 29: val_accuracy did not improve from 0.73120\n",
      "469/469 [==============================] - 6s 13ms/step - loss: 0.3160 - accuracy: 0.8899 - val_loss: 0.5674 - val_accuracy: 0.7080\n",
      "Epoch 30/30\n",
      "469/469 [==============================] - ETA: 0s - loss: 0.2870 - accuracy: 0.9048\n",
      "Epoch 30: val_accuracy did not improve from 0.73120\n",
      "469/469 [==============================] - 7s 14ms/step - loss: 0.2870 - accuracy: 0.9048 - val_loss: 0.5814 - val_accuracy: 0.7232\n"
     ]
    }
   ],
   "source": [
    "# Running the model for 30 epochs and tracking tracking the accuracy\n",
    "history = model.fit(\n",
    "    X_train,\n",
    "    y_train,\n",
    "    validation_data=(X_test, y_test),\n",
    "    epochs=30,\n",
    "    batch_size=8,\n",
    "    callbacks=[checkpoint]\n",
    ")"
   ]
  },
  {
   "cell_type": "code",
   "execution_count": 12,
   "metadata": {
    "colab": {
     "base_uri": "https://localhost:8080/",
     "height": 422
    },
    "id": "qkQZpEyCP0Hd",
    "outputId": "0d6d9109-a112-435b-8ea3-094a1268b97c"
   },
   "outputs": [
    {
     "data": {
      "image/png": "[encoded data removed]",
      "text/plain": [
       "<IPython.core.display.Image object>"
      ]
     },
     "execution_count": 12,
     "metadata": {},
     "output_type": "execute_result"
    }
   ],
   "source": [
    "# Visualization of the model architecture and layers\n",
    "from tensorflow.keras.utils import plot_model\n",
    "plot_model(model, to_file='model_plot.png', show_shapes=True, show_layer_names=True)"
   ]
  },
  {
   "cell_type": "code",
   "execution_count": 13,
   "metadata": {
    "colab": {
     "base_uri": "https://localhost:8080/"
    },
    "id": "CETUTlxnQDma",
    "outputId": "85f4869e-54d5-4fc6-89eb-1eb7666cf91d"
   },
   "outputs": [
    {
     "name": "stdout",
     "output_type": "stream",
     "text": [
      "1/1 [==============================] - 0s 84ms/step\n",
      "New data 1: Anarcho-capitalism, in my opinion, is a doctrinal system which, if ever implemented, would lead to forms of tyranny and oppression that have few counterparts in human history.\n",
      "Predicted label: Conservative\n",
      "Probability: 0.52\n",
      "\n",
      "New data 2: Biden's Response to Putin's Invasion of Ukraine Has Been His Finest Moment\n",
      "Predicted label: Conservative\n",
      "Probability: 0.94\n",
      "\n"
     ]
    }
   ],
   "source": [
    "# Predicting new data using the best model\n",
    "new_data = [\n",
    "    \"Anarcho-capitalism, in my opinion, is a doctrinal system which, if ever implemented, would lead to forms of tyranny and oppression that have few counterparts in human history.\",\n",
    "    \"Biden's Response to Putin's Invasion of Ukraine Has Been His Finest Moment\",\n",
    "]\n",
    "\n",
    "# Preprocess new data\n",
    "X_new = vectorizer.transform(new_data).toarray()\n",
    "\n",
    "# Load the best model\n",
    "best_model = tf.keras.models.load_model('best_model.h5')\n",
    "\n",
    "# Make predictions\n",
    "predictions = best_model.predict(X_new)\n",
    "\n",
    "# Print predictions and reasoning\n",
    "for i, (text, prediction) in enumerate(zip(new_data, predictions)):\n",
    "    label = encoder.classes_[int(round(prediction[0]))]\n",
    "    probability = prediction[0] if label == \"Liberal\" else 1 - prediction[0]\n",
    "    print(f\"New data {i + 1}: {text}\")\n",
    "    print(f\"Predicted label: {label}\")\n",
    "    print(f\"Probability: {probability:.2f}\")\n",
    "    print()"
   ]
  },
  {
   "cell_type": "code",
   "execution_count": 14,
   "metadata": {
    "id": "SynY9w2CkbZW"
   },
   "outputs": [],
   "source": [
    "# Saving the best model as a zip file\n",
    "import zipfile\n",
    "with zipfile.ZipFile('/best_model.zip', 'w') as archive:\n",
    "    archive.write('best_model.h5', 'best_model.h5')"
   ]
  }
 ],
 "metadata": {
  "accelerator": "GPU",
  "colab": {
   "gpuType": "T4",
   "provenance": []
  },
  "gpuClass": "standard",
  "kernelspec": {
   "display_name": "Python 3 (ipykernel)",
   "language": "python",
   "name": "python3"
  },
  "language_info": {
   "codemirror_mode": {
    "name": "ipython",
    "version": 3
   },
   "file_extension": ".py",
   "mimetype": "text/x-python",
   "name": "python",
   "nbconvert_exporter": "python",
   "pygments_lexer": "ipython3",
   "version": "3.9.13"
  }
 },
 "nbformat": 4,
 "nbformat_minor": 1
}
